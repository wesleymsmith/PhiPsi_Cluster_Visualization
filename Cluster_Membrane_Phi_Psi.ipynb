{
 "cells": [
  {
   "cell_type": "code",
   "execution_count": 1,
   "metadata": {},
   "outputs": [],
   "source": [
    "import pytraj as pt\n",
    "import pytraj.utils.progress\n",
    "import numpy as np\n",
    "import scipy as sp\n",
    "from scipy import signal\n",
    "import pandas as pd\n",
    "import matplotlib\n",
    "from matplotlib import pyplot as plt\n",
    "import collections\n",
    "import sys\n",
    "import gc\n",
    "import os\n",
    "import sklearn as skl\n",
    "from sklearn import decomposition\n",
    "from sklearn import metrics\n",
    "from sklearn import discriminant_analysis\n",
    "from sklearn import pipeline\n",
    "import tqdm\n",
    "import nglview as nv\n",
    "import ipywidgets\n",
    "import copy\n",
    "import cPickle"
   ]
  },
  {
   "cell_type": "markdown",
   "metadata": {},
   "source": [
    "# Preamble\n",
    "This notebook will look into analyzing the effect of modulating\n",
    "the lipid environment upon piezo's conformational dynamics.\n",
    "\n",
    "There are some important differences to consider here.\n",
    "\n",
    "First and foremost, whereas the ligand simulations affect piezo's\n",
    "by directly perturbing the structure of a particular arm, these\n",
    "simulations instead modulate the membrane environment surrounding piezo.\n",
    "\n",
    "Piezo is a triskelion shaped homo-trimer. Its cryo-em structure is quite\n",
    "symmetric.... however, this symmetry is not retained during simulation.\n",
    "\n",
    "Interestingly, observing the structure of Piezo under several replicas in\n",
    "symmetric, single component membrane environment reveal that one arm will\n",
    "always display different conformations compared to the other arms.\n",
    "\n",
    "The arm which does so is not the same from one replica to the next, so it\n",
    "seems that this breaking of symmetry is just a consequence of acclimating\n",
    "to a higher temperature membrane environment (315 K here as compared to\n",
    "around 90K for cryo em).\n",
    "\n",
    "So... over many replicas, we seem to recover the symmetry as an average\n",
    "property...\n",
    "\n",
    "Unfortunately, running many replicas is not tractable for this system due to its\n",
    "sheer size... Instead, we will consider measurements from different arms as equivalent.\n",
    "\n",
    "This was not done for the ligand simulations, however, because, as mentioned, one particular arm\n",
    "was being perturbed. Thus tracking which individual arm each measurement came from was important\n",
    "during analysis of ligand simulations, but here, we are able to consider average\n",
    "properties over all 3 arms.\n",
    "\n",
    "This will incur a little legwork in the initial setup but should prove helpful\n",
    "during subsequent analysis because, after inducing symmetry, we will have one third as many\n",
    "features to consider.\n",
    "\n",
    "# Data Loading and Formatting\n",
    "\n",
    "We will now begin by loading the joint simulation data and transforming to treat\n",
    "measurements from each arm as equivalent. This will be done by first melting the\n",
    "data frame. We can then operate on the angle labels column reassign the\n",
    "residue index number as $resid_{new}=resid_{old}\\bmod3$ (i.e. take the remainder\n",
    "after dividing by 3). A new column can them be added track which arm each angle\n",
    "belonged to. The data will then be repivoted for further analysis.\n",
    "\n",
    "## Data loading \n",
    "As usual, we had to save the data table in chunks. We thus need to define an appropriate\n",
    "loading function as shown below"
   ]
  },
  {
   "cell_type": "code",
   "execution_count": 2,
   "metadata": {},
   "outputs": [],
   "source": [
    "def loadDataFrameChunks(filePathBase,nChunks):\n",
    "    dataTables=[]\n",
    "    chunkStr='chunk_%s0%gg'%('%',int(np.floor(np.log10(nChunks)))+1)\n",
    "    with tqdm.tqdm_notebook(np.arange(nChunks)) as loadBar:\n",
    "        loadBar.set_description('Loading Data Frame Chunks')\n",
    "        for iChunk in loadBar:\n",
    "            dataFilePath='.'.join([filePathBase,chunkStr%iChunk,'csv'])\n",
    "            dataTables.append(\n",
    "                pd.read_csv(dataFilePath))\n",
    "            gc.collect()\n",
    "    return pd.concat(dataTables)"
   ]
  },
  {
   "cell_type": "markdown",
   "metadata": {},
   "source": [
    "Lets check how many chunks we have"
   ]
  },
  {
   "cell_type": "code",
   "execution_count": 4,
   "metadata": {},
   "outputs": [
    {
     "name": "stdout",
     "output_type": "stream",
     "text": [
      "41\r\n"
     ]
    }
   ],
   "source": [
    "!ls -l dataFiles/phiPsiTables/joint_memb.phi_psi_table.chunk_*.csv | awk -F / '{print $NF}' | awk -F . '{print $(NF-1)}' | awk -F _ '{print $NF}' | tail -n 1"
   ]
  },
  {
   "cell_type": "code",
   "execution_count": 5,
   "metadata": {},
   "outputs": [
    {
     "data": {
      "application/vnd.jupyter.widget-view+json": {
       "model_id": "e3486cfb4b0148c38dc047ea915ec118",
       "version_major": 2,
       "version_minor": 0
      },
      "text/plain": [
       "HBox(children=(IntProgress(value=0, max=41), HTML(value=u'')))"
      ]
     },
     "metadata": {},
     "output_type": "display_data"
    },
    {
     "name": "stdout",
     "output_type": "stream",
     "text": [
      "\n"
     ]
    },
    {
     "data": {
      "text/html": [
       "<div>\n",
       "<style scoped>\n",
       "    .dataframe tbody tr th:only-of-type {\n",
       "        vertical-align: middle;\n",
       "    }\n",
       "\n",
       "    .dataframe tbody tr th {\n",
       "        vertical-align: top;\n",
       "    }\n",
       "\n",
       "    .dataframe thead th {\n",
       "        text-align: right;\n",
       "    }\n",
       "</style>\n",
       "<table border=\"1\" class=\"dataframe\">\n",
       "  <thead>\n",
       "    <tr style=\"text-align: right;\">\n",
       "      <th></th>\n",
       "      <th>System</th>\n",
       "      <th>Frame</th>\n",
       "      <th>psi_1</th>\n",
       "      <th>phi_2</th>\n",
       "      <th>psi_2</th>\n",
       "      <th>phi_3</th>\n",
       "      <th>psi_3</th>\n",
       "      <th>phi_4</th>\n",
       "      <th>psi_4</th>\n",
       "      <th>phi_5</th>\n",
       "      <th>...</th>\n",
       "      <th>psi_4249</th>\n",
       "      <th>phi_4250</th>\n",
       "      <th>psi_4250</th>\n",
       "      <th>phi_4251</th>\n",
       "      <th>psi_4251</th>\n",
       "      <th>phi_4252</th>\n",
       "      <th>psi_4252</th>\n",
       "      <th>phi_4253</th>\n",
       "      <th>psi_4253</th>\n",
       "      <th>phi_4254</th>\n",
       "    </tr>\n",
       "  </thead>\n",
       "  <tbody>\n",
       "    <tr>\n",
       "      <th>0</th>\n",
       "      <td>POPC</td>\n",
       "      <td>0</td>\n",
       "      <td>-92.538319</td>\n",
       "      <td>-90.675970</td>\n",
       "      <td>50.467890</td>\n",
       "      <td>-83.536252</td>\n",
       "      <td>-56.646704</td>\n",
       "      <td>-66.994656</td>\n",
       "      <td>-43.655675</td>\n",
       "      <td>-48.537961</td>\n",
       "      <td>...</td>\n",
       "      <td>-45.001072</td>\n",
       "      <td>-51.833152</td>\n",
       "      <td>-49.188380</td>\n",
       "      <td>-81.741315</td>\n",
       "      <td>-5.315496</td>\n",
       "      <td>-82.160726</td>\n",
       "      <td>-80.366564</td>\n",
       "      <td>-54.248897</td>\n",
       "      <td>-57.795869</td>\n",
       "      <td>-103.283576</td>\n",
       "    </tr>\n",
       "    <tr>\n",
       "      <th>1</th>\n",
       "      <td>POPC</td>\n",
       "      <td>1</td>\n",
       "      <td>-67.897299</td>\n",
       "      <td>-87.968510</td>\n",
       "      <td>80.827211</td>\n",
       "      <td>-84.977793</td>\n",
       "      <td>-53.473650</td>\n",
       "      <td>-67.267185</td>\n",
       "      <td>-21.730216</td>\n",
       "      <td>-73.346152</td>\n",
       "      <td>...</td>\n",
       "      <td>-57.252846</td>\n",
       "      <td>-47.089584</td>\n",
       "      <td>-56.609321</td>\n",
       "      <td>-51.742248</td>\n",
       "      <td>-42.113380</td>\n",
       "      <td>-67.250609</td>\n",
       "      <td>-62.100206</td>\n",
       "      <td>-79.930780</td>\n",
       "      <td>-63.703503</td>\n",
       "      <td>-88.860026</td>\n",
       "    </tr>\n",
       "    <tr>\n",
       "      <th>2</th>\n",
       "      <td>POPC</td>\n",
       "      <td>2</td>\n",
       "      <td>-54.649079</td>\n",
       "      <td>-77.358751</td>\n",
       "      <td>105.068599</td>\n",
       "      <td>-86.017091</td>\n",
       "      <td>-75.500165</td>\n",
       "      <td>-66.551154</td>\n",
       "      <td>-40.604271</td>\n",
       "      <td>-70.945980</td>\n",
       "      <td>...</td>\n",
       "      <td>-39.616951</td>\n",
       "      <td>-51.222322</td>\n",
       "      <td>-59.783692</td>\n",
       "      <td>-64.687987</td>\n",
       "      <td>-25.811014</td>\n",
       "      <td>-81.296024</td>\n",
       "      <td>-35.502232</td>\n",
       "      <td>-90.227413</td>\n",
       "      <td>-45.320649</td>\n",
       "      <td>-101.483824</td>\n",
       "    </tr>\n",
       "    <tr>\n",
       "      <th>3</th>\n",
       "      <td>POPC</td>\n",
       "      <td>3</td>\n",
       "      <td>-53.227823</td>\n",
       "      <td>-62.547584</td>\n",
       "      <td>65.871080</td>\n",
       "      <td>-69.612892</td>\n",
       "      <td>-49.677393</td>\n",
       "      <td>-56.152612</td>\n",
       "      <td>-45.944265</td>\n",
       "      <td>-70.275168</td>\n",
       "      <td>...</td>\n",
       "      <td>-58.491646</td>\n",
       "      <td>-41.057612</td>\n",
       "      <td>-45.783047</td>\n",
       "      <td>-73.580293</td>\n",
       "      <td>-48.073389</td>\n",
       "      <td>-60.708680</td>\n",
       "      <td>-52.913657</td>\n",
       "      <td>-78.880614</td>\n",
       "      <td>-48.355414</td>\n",
       "      <td>-108.382543</td>\n",
       "    </tr>\n",
       "    <tr>\n",
       "      <th>4</th>\n",
       "      <td>POPC</td>\n",
       "      <td>4</td>\n",
       "      <td>-44.386791</td>\n",
       "      <td>-75.632470</td>\n",
       "      <td>78.984520</td>\n",
       "      <td>-65.249080</td>\n",
       "      <td>-56.598326</td>\n",
       "      <td>-44.975400</td>\n",
       "      <td>-44.357276</td>\n",
       "      <td>-76.498243</td>\n",
       "      <td>...</td>\n",
       "      <td>-55.192075</td>\n",
       "      <td>-52.667300</td>\n",
       "      <td>-42.970486</td>\n",
       "      <td>-76.748131</td>\n",
       "      <td>-51.178906</td>\n",
       "      <td>-55.404238</td>\n",
       "      <td>-48.370952</td>\n",
       "      <td>-87.449109</td>\n",
       "      <td>-52.053732</td>\n",
       "      <td>-104.899646</td>\n",
       "    </tr>\n",
       "  </tbody>\n",
       "</table>\n",
       "<p>5 rows × 8486 columns</p>\n",
       "</div>"
      ],
      "text/plain": [
       "  System  Frame      psi_1      phi_2       psi_2      phi_3      psi_3  \\\n",
       "0   POPC      0 -92.538319 -90.675970   50.467890 -83.536252 -56.646704   \n",
       "1   POPC      1 -67.897299 -87.968510   80.827211 -84.977793 -53.473650   \n",
       "2   POPC      2 -54.649079 -77.358751  105.068599 -86.017091 -75.500165   \n",
       "3   POPC      3 -53.227823 -62.547584   65.871080 -69.612892 -49.677393   \n",
       "4   POPC      4 -44.386791 -75.632470   78.984520 -65.249080 -56.598326   \n",
       "\n",
       "       phi_4      psi_4      phi_5  ...   psi_4249   phi_4250   psi_4250  \\\n",
       "0 -66.994656 -43.655675 -48.537961  ... -45.001072 -51.833152 -49.188380   \n",
       "1 -67.267185 -21.730216 -73.346152  ... -57.252846 -47.089584 -56.609321   \n",
       "2 -66.551154 -40.604271 -70.945980  ... -39.616951 -51.222322 -59.783692   \n",
       "3 -56.152612 -45.944265 -70.275168  ... -58.491646 -41.057612 -45.783047   \n",
       "4 -44.975400 -44.357276 -76.498243  ... -55.192075 -52.667300 -42.970486   \n",
       "\n",
       "    phi_4251   psi_4251   phi_4252   psi_4252   phi_4253   psi_4253  \\\n",
       "0 -81.741315  -5.315496 -82.160726 -80.366564 -54.248897 -57.795869   \n",
       "1 -51.742248 -42.113380 -67.250609 -62.100206 -79.930780 -63.703503   \n",
       "2 -64.687987 -25.811014 -81.296024 -35.502232 -90.227413 -45.320649   \n",
       "3 -73.580293 -48.073389 -60.708680 -52.913657 -78.880614 -48.355414   \n",
       "4 -76.748131 -51.178906 -55.404238 -48.370952 -87.449109 -52.053732   \n",
       "\n",
       "     phi_4254  \n",
       "0 -103.283576  \n",
       "1  -88.860026  \n",
       "2 -101.483824  \n",
       "3 -108.382543  \n",
       "4 -104.899646  \n",
       "\n",
       "[5 rows x 8486 columns]"
      ]
     },
     "execution_count": 5,
     "metadata": {},
     "output_type": "execute_result"
    }
   ],
   "source": [
    "rawPhiPsiTable=loadDataFrameChunks('dataFiles/phiPsiTables/joint_memb.phi_psi_table',nChunks=41)\n",
    "rawPhiPsiTable.head()"
   ]
  },
  {
   "cell_type": "markdown",
   "metadata": {},
   "source": [
    "### Data munging\n",
    "We now need to transform our data as detailed above"
   ]
  },
  {
   "cell_type": "code",
   "execution_count": 6,
   "metadata": {},
   "outputs": [
    {
     "data": {
      "text/html": [
       "<div>\n",
       "<style scoped>\n",
       "    .dataframe tbody tr th:only-of-type {\n",
       "        vertical-align: middle;\n",
       "    }\n",
       "\n",
       "    .dataframe tbody tr th {\n",
       "        vertical-align: top;\n",
       "    }\n",
       "\n",
       "    .dataframe thead th {\n",
       "        text-align: right;\n",
       "    }\n",
       "</style>\n",
       "<table border=\"1\" class=\"dataframe\">\n",
       "  <thead>\n",
       "    <tr style=\"text-align: right;\">\n",
       "      <th></th>\n",
       "      <th>System</th>\n",
       "      <th>Frame</th>\n",
       "      <th>Angle</th>\n",
       "      <th>Measurement</th>\n",
       "    </tr>\n",
       "  </thead>\n",
       "  <tbody>\n",
       "    <tr>\n",
       "      <th>0</th>\n",
       "      <td>POPC</td>\n",
       "      <td>0</td>\n",
       "      <td>psi_1</td>\n",
       "      <td>-92.538319</td>\n",
       "    </tr>\n",
       "    <tr>\n",
       "      <th>1</th>\n",
       "      <td>POPC</td>\n",
       "      <td>1</td>\n",
       "      <td>psi_1</td>\n",
       "      <td>-67.897299</td>\n",
       "    </tr>\n",
       "    <tr>\n",
       "      <th>2</th>\n",
       "      <td>POPC</td>\n",
       "      <td>2</td>\n",
       "      <td>psi_1</td>\n",
       "      <td>-54.649079</td>\n",
       "    </tr>\n",
       "    <tr>\n",
       "      <th>3</th>\n",
       "      <td>POPC</td>\n",
       "      <td>3</td>\n",
       "      <td>psi_1</td>\n",
       "      <td>-53.227823</td>\n",
       "    </tr>\n",
       "    <tr>\n",
       "      <th>4</th>\n",
       "      <td>POPC</td>\n",
       "      <td>4</td>\n",
       "      <td>psi_1</td>\n",
       "      <td>-44.386791</td>\n",
       "    </tr>\n",
       "  </tbody>\n",
       "</table>\n",
       "</div>"
      ],
      "text/plain": [
       "  System  Frame  Angle  Measurement\n",
       "0   POPC      0  psi_1   -92.538319\n",
       "1   POPC      1  psi_1   -67.897299\n",
       "2   POPC      2  psi_1   -54.649079\n",
       "3   POPC      3  psi_1   -53.227823\n",
       "4   POPC      4  psi_1   -44.386791"
      ]
     },
     "execution_count": 6,
     "metadata": {},
     "output_type": "execute_result"
    }
   ],
   "source": [
    "phiPsiTableLong=pd.melt(frame=rawPhiPsiTable,\n",
    "                        id_vars=['System','Frame'],\n",
    "                        var_name='Angle',\n",
    "                        value_name='Measurement')\n",
    "phiPsiTableLong.head()"
   ]
  },
  {
   "cell_type": "code",
   "execution_count": 11,
   "metadata": {},
   "outputs": [
    {
     "data": {
      "application/vnd.jupyter.widget-view+json": {
       "model_id": "7bcb1e7c86ed47cbba64ea7261d84f42",
       "version_major": 2,
       "version_minor": 0
      },
      "text/plain": [
       "HBox(children=(IntProgress(value=1, bar_style=u'info', max=1), HTML(value=u'')))"
      ]
     },
     "metadata": {},
     "output_type": "display_data"
    },
    {
     "data": {
      "application/vnd.jupyter.widget-view+json": {
       "model_id": "001b34c401ba4fdda0ae790a812e8bc8",
       "version_major": 2,
       "version_minor": 0
      },
      "text/plain": [
       "HBox(children=(IntProgress(value=0, max=43480500), HTML(value=u'')))"
      ]
     },
     "metadata": {},
     "output_type": "display_data"
    },
    {
     "data": {
      "application/vnd.jupyter.widget-view+json": {
       "model_id": "a8d92c6decd141b9919123896c768782",
       "version_major": 2,
       "version_minor": 0
      },
      "text/plain": [
       "HBox(children=(IntProgress(value=0, max=43480500), HTML(value=u'')))"
      ]
     },
     "metadata": {},
     "output_type": "display_data"
    },
    {
     "data": {
      "application/vnd.jupyter.widget-view+json": {
       "model_id": "98e27e243c254ac3b803b8f265eeddfc",
       "version_major": 2,
       "version_minor": 0
      },
      "text/plain": [
       "HBox(children=(IntProgress(value=0, max=43480500), HTML(value=u'')))"
      ]
     },
     "metadata": {},
     "output_type": "display_data"
    },
    {
     "data": {
      "application/vnd.jupyter.widget-view+json": {
       "model_id": "31f8cf7c29324e428f83ac38e2cdb0c6",
       "version_major": 2,
       "version_minor": 0
      },
      "text/plain": [
       "HBox(children=(IntProgress(value=0, max=43480500), HTML(value=u'')))"
      ]
     },
     "metadata": {},
     "output_type": "display_data"
    },
    {
     "data": {
      "text/html": [
       "<div>\n",
       "<style scoped>\n",
       "    .dataframe tbody tr th:only-of-type {\n",
       "        vertical-align: middle;\n",
       "    }\n",
       "\n",
       "    .dataframe tbody tr th {\n",
       "        vertical-align: top;\n",
       "    }\n",
       "\n",
       "    .dataframe thead th {\n",
       "        text-align: right;\n",
       "    }\n",
       "</style>\n",
       "<table border=\"1\" class=\"dataframe\">\n",
       "  <thead>\n",
       "    <tr style=\"text-align: right;\">\n",
       "      <th></th>\n",
       "      <th>System</th>\n",
       "      <th>Frame</th>\n",
       "      <th>Arm</th>\n",
       "      <th>ResNum</th>\n",
       "      <th>AngleType</th>\n",
       "      <th>Measurement</th>\n",
       "    </tr>\n",
       "  </thead>\n",
       "  <tbody>\n",
       "    <tr>\n",
       "      <th>0</th>\n",
       "      <td>POPC</td>\n",
       "      <td>0</td>\n",
       "      <td>Arm_1</td>\n",
       "      <td>1</td>\n",
       "      <td>psi</td>\n",
       "      <td>-92.538319</td>\n",
       "    </tr>\n",
       "    <tr>\n",
       "      <th>1</th>\n",
       "      <td>POPC</td>\n",
       "      <td>1</td>\n",
       "      <td>Arm_1</td>\n",
       "      <td>1</td>\n",
       "      <td>psi</td>\n",
       "      <td>-67.897299</td>\n",
       "    </tr>\n",
       "    <tr>\n",
       "      <th>2</th>\n",
       "      <td>POPC</td>\n",
       "      <td>2</td>\n",
       "      <td>Arm_1</td>\n",
       "      <td>1</td>\n",
       "      <td>psi</td>\n",
       "      <td>-54.649079</td>\n",
       "    </tr>\n",
       "    <tr>\n",
       "      <th>3</th>\n",
       "      <td>POPC</td>\n",
       "      <td>3</td>\n",
       "      <td>Arm_1</td>\n",
       "      <td>1</td>\n",
       "      <td>psi</td>\n",
       "      <td>-53.227823</td>\n",
       "    </tr>\n",
       "    <tr>\n",
       "      <th>4</th>\n",
       "      <td>POPC</td>\n",
       "      <td>4</td>\n",
       "      <td>Arm_1</td>\n",
       "      <td>1</td>\n",
       "      <td>psi</td>\n",
       "      <td>-44.386791</td>\n",
       "    </tr>\n",
       "  </tbody>\n",
       "</table>\n",
       "</div>"
      ],
      "text/plain": [
       "  System  Frame    Arm  ResNum AngleType  Measurement\n",
       "0   POPC      0  Arm_1       1       psi   -92.538319\n",
       "1   POPC      1  Arm_1       1       psi   -67.897299\n",
       "2   POPC      2  Arm_1       1       psi   -54.649079\n",
       "3   POPC      3  Arm_1       1       psi   -53.227823\n",
       "4   POPC      4  Arm_1       1       psi   -44.386791"
      ]
     },
     "execution_count": 11,
     "metadata": {},
     "output_type": "execute_result"
    }
   ],
   "source": [
    "tqdm.tqdm_notebook().pandas()\n",
    "#Split 'Angle' column\n",
    "#Add 'Angle Type' column by splitting 'Angle' on '_' and taking first entry\n",
    "phiPsiTableLong['AngleType']=phiPsiTableLong['Angle'].progress_apply(\n",
    "    lambda x: x.split('_')[0])\n",
    "#Add 'ResID' column by splitting 'Angle' on '_' and taking second entry\n",
    "phiPsiTableLong['ResID']=phiPsiTableLong['Angle'].progress_apply(\n",
    "    lambda x: x.split('_')[1])\n",
    "#Add 'ResNum' column as ResID%3\n",
    "phiPsiTableLong['ResNum']=phiPsiTableLong['ResID'].progress_apply(\n",
    "    lambda x: int(x)%3)\n",
    "#Add 'Arm' column as floor(ResID/3)\n",
    "phiPsiTableLong['Arm']=phiPsiTableLong['ResID'].progress_apply(\n",
    "    lambda x: 'Arm_%g'%(np.floor((int(x)-1)/3)+1))\n",
    "#Remove unused columns\n",
    "phiPsiTableLong=phiPsiTableLong[\n",
    "    ['System','Frame','Arm','ResNum','AngleType','Measurement']]\n",
    "phiPsiTableLong.head()"
   ]
  },
  {
   "cell_type": "code",
   "execution_count": 25,
   "metadata": {},
   "outputs": [
    {
     "data": {
      "text/plain": [
       "0    psi_1\n",
       "1    psi_1\n",
       "2    psi_1\n",
       "3    psi_1\n",
       "4    psi_1\n",
       "5    psi_1\n",
       "6    psi_1\n",
       "7    psi_1\n",
       "8    psi_1\n",
       "9    psi_1\n",
       "dtype: object"
      ]
     },
     "execution_count": 25,
     "metadata": {},
     "output_type": "execute_result"
    }
   ],
   "source": [
    "testTab=phiPsiTableLong[['ResNum','AngleType']][:10]\n",
    "testTab.apply(lambda x: '%s_%s'%(x[1],x[0]),axis=1)"
   ]
  },
  {
   "cell_type": "code",
   "execution_count": null,
   "metadata": {},
   "outputs": [],
   "source": [
    "phiPsiTableLong['Angle']=phiPsiTableLong[['AngleType','ResNum']].progress_apply(\n",
    "    lambda x: '%s_%s'%(x[0],x[1]),axis=1)\n",
    "phiPsiTableLong=phiPsiTableLong[\n",
    "    \n",
    "]"
   ]
  }
 ],
 "metadata": {
  "kernelspec": {
   "display_name": "Python 2",
   "language": "python",
   "name": "python2"
  },
  "language_info": {
   "codemirror_mode": {
    "name": "ipython",
    "version": 2
   },
   "file_extension": ".py",
   "mimetype": "text/x-python",
   "name": "python",
   "nbconvert_exporter": "python",
   "pygments_lexer": "ipython2",
   "version": "2.7.16"
  }
 },
 "nbformat": 4,
 "nbformat_minor": 2
}
