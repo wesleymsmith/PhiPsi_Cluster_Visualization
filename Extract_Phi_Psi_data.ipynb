{
 "cells": [
  {
   "cell_type": "code",
   "execution_count": 1,
   "metadata": {},
   "outputs": [],
   "source": [
    "import pytraj as pt\n",
    "import pytraj.utils.progress\n",
    "import numpy as np\n",
    "import scipy as sp\n",
    "import pandas as pd\n",
    "import matplotlib\n",
    "from matplotlib import pyplot as plt\n",
    "import collections\n",
    "import sys\n",
    "import gc\n",
    "import os\n",
    "import sklearn as skl\n",
    "from sklearn import decomposition\n",
    "from sklearn import metrics\n",
    "from sklearn import discriminant_analysis\n",
    "import tqdm\n",
    "import nglview as nv\n",
    "import ipywidgets\n",
    "import copy\n",
    "import cPickle"
   ]
  },
  {
   "cell_type": "code",
   "execution_count": 3,
   "metadata": {
    "scrolled": true
   },
   "outputs": [
    {
     "name": "stdout",
     "output_type": "stream",
     "text": [
      "--- loading yoda0.replica_00 ---\n",
      "pytraj.TrajectoryIterator, 2001 frames: \n",
      "Size: 3.000000 (GB)\n",
      "<Topology: 70296 atoms, 4254 residues, 12 mols, PBC with box type = ortho>\n",
      "           \n",
      "--- loading yoda0.replica_01 ---\n",
      "pytraj.TrajectoryIterator, 1980 frames: \n",
      "Size: 3.000000 (GB)\n",
      "<Topology: 70296 atoms, 4254 residues, 12 mols, PBC with box type = ortho>\n",
      "           \n",
      "--- loading yoda0.replica_02 ---\n",
      "pytraj.TrajectoryIterator, 2001 frames: \n",
      "Size: 3.000000 (GB)\n",
      "<Topology: 70296 atoms, 4254 residues, 12 mols, PBC with box type = ortho>\n",
      "           \n",
      "--- loading yoda0.replica_03 ---\n",
      "pytraj.TrajectoryIterator, 1980 frames: \n",
      "Size: 3.000000 (GB)\n",
      "<Topology: 70296 atoms, 4254 residues, 12 mols, PBC with box type = ortho>\n",
      "           \n",
      "--- loading yoda1.replica_00 ---\n",
      "pytraj.TrajectoryIterator, 2001 frames: \n",
      "Size: 3.000000 (GB)\n",
      "<Topology: 70325 atoms, 4255 residues, 13 mols, PBC with box type = ortho>\n",
      "           \n",
      "--- loading yoda1.replica_01 ---\n",
      "pytraj.TrajectoryIterator, 928 frames: \n",
      "Size: 1.000000 (GB)\n",
      "<Topology: 70325 atoms, 4255 residues, 13 mols, PBC with box type = ortho>\n",
      "           \n",
      "--- loading yoda1.replica_02 ---\n",
      "pytraj.TrajectoryIterator, 2001 frames: \n",
      "Size: 3.000000 (GB)\n",
      "<Topology: 70325 atoms, 4255 residues, 13 mols, PBC with box type = ortho>\n",
      "           \n",
      "--- loading yoda1.replica_03 ---\n",
      "pytraj.TrajectoryIterator, 2001 frames: \n",
      "Size: 3.000000 (GB)\n",
      "<Topology: 70325 atoms, 4255 residues, 13 mols, PBC with box type = ortho>\n",
      "           \n",
      "--- loading dooku1.replica_00 ---\n",
      "pytraj.TrajectoryIterator, 2001 frames: \n",
      "Size: 3.000000 (GB)\n",
      "<Topology: 70325 atoms, 4255 residues, 13 mols, PBC with box type = ortho>\n",
      "           \n",
      "--- loading dooku1.replica_01 ---\n",
      "pytraj.TrajectoryIterator, 2001 frames: \n",
      "Size: 3.000000 (GB)\n",
      "<Topology: 70325 atoms, 4255 residues, 13 mols, PBC with box type = ortho>\n",
      "           \n",
      "--- loading dooku1.replica_02 ---\n",
      "pytraj.TrajectoryIterator, 2001 frames: \n",
      "Size: 3.000000 (GB)\n",
      "<Topology: 70325 atoms, 4255 residues, 13 mols, PBC with box type = ortho>\n",
      "           \n",
      "--- loading dooku1.replica_03 ---\n",
      "pytraj.TrajectoryIterator, 2001 frames: \n",
      "Size: 3.000000 (GB)\n",
      "<Topology: 70325 atoms, 4255 residues, 13 mols, PBC with box type = ortho>\n",
      "           \n"
     ]
    }
   ],
   "source": [
    "trajBaseDir='trajData/Full_Model'\n",
    "topFileName='topology.stripped.nochamber.parm7'\n",
    "trajFileName='strippedTraj.dcd'\n",
    "\n",
    "systems=[\"yoda0\",\"yoda1\",\"dooku1\"]\n",
    "nReps=4\n",
    "reps=['replica_%02g'%iRep for iRep in np.arange(nReps)]\n",
    "\n",
    "sysDirStr='wt_short_%s'\n",
    "\n",
    "trajDict={}\n",
    "for system in systems:\n",
    "    sysDir='/'.join([trajBaseDir,sysDirStr%system])\n",
    "    topFilePath='/'.join([sysDir,topFileName])\n",
    "    for rep in reps:\n",
    "        trajKey='.'.join([system,rep])\n",
    "        print '--- loading %s ---'%trajKey\n",
    "        trajDir='/'.join([sysDir,rep])\n",
    "        trajFilePath='/'.join([trajDir,trajFileName])\n",
    "        trajDict[system]=pt.iterload(trajFilePath,top=topFilePath)\n",
    "        print trajDict[system]"
   ]
  },
  {
   "cell_type": "code",
   "execution_count": null,
   "metadata": {},
   "outputs": [],
   "source": []
  }
 ],
 "metadata": {
  "kernelspec": {
   "display_name": "Python 2",
   "language": "python",
   "name": "python2"
  },
  "language_info": {
   "codemirror_mode": {
    "name": "ipython",
    "version": 2
   },
   "file_extension": ".py",
   "mimetype": "text/x-python",
   "name": "python",
   "nbconvert_exporter": "python",
   "pygments_lexer": "ipython2",
   "version": "2.7.16"
  }
 },
 "nbformat": 4,
 "nbformat_minor": 2
}
